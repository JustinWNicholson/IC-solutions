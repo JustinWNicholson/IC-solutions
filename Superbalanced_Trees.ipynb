{
  "nbformat": 4,
  "nbformat_minor": 0,
  "metadata": {
    "colab": {
      "name": "Superbalanced_Trees.ipynb",
      "provenance": [],
      "authorship_tag": "ABX9TyMtWfqMGouGTqREGXmQzZ/X",
      "include_colab_link": true
    },
    "kernelspec": {
      "name": "python3",
      "display_name": "Python 3"
    },
    "language_info": {
      "name": "python"
    }
  },
  "cells": [
    {
      "cell_type": "markdown",
      "metadata": {
        "id": "view-in-github",
        "colab_type": "text"
      },
      "source": [
        "<a href=\"https://colab.research.google.com/github/JustinWNicholson/IC-solutions/blob/main/Superbalanced_Trees.ipynb\" target=\"_parent\"><img src=\"https://colab.research.google.com/assets/colab-badge.svg\" alt=\"Open In Colab\"/></a>"
      ]
    },
    {
      "cell_type": "markdown",
      "metadata": {
        "id": "WRHC0NdlClOa"
      },
      "source": [
        " Write a function to see if a binary tree ↴ is \"superbalanced\" (a new tree property we just made up).\n",
        "\n",
        "A tree is \"superbalanced\" if the difference between the depths of any two leaf nodes is no greater than one.\n",
        "\n",
        "Here's a sample binary tree node class: "
      ]
    },
    {
      "cell_type": "markdown",
      "metadata": {
        "id": "h9aJs2xmDTHF"
      },
      "source": [
        "  Sample Binary Tree Class:\n",
        "  \n",
        "  \n",
        "  class BinaryTreeNode(object):\n",
        "\n",
        "    def __init__(self, value):\n",
        "        self.value = value\n",
        "        self.left  = None\n",
        "        self.right = None\n",
        "\n",
        "    def insert_left(self, value):\n",
        "        self.left = BinaryTreeNode(value)\n",
        "        return self.left\n",
        "\n",
        "    def insert_right(self, value):\n",
        "        self.right = BinaryTreeNode(value)\n",
        "        return self.right"
      ]
    },
    {
      "cell_type": "markdown",
      "metadata": {
        "id": "_4F9b2OZDbun"
      },
      "source": [
        "#Problem Analysis"
      ]
    },
    {
      "cell_type": "markdown",
      "metadata": {
        "id": "sFG7bQCjFLHu"
      },
      "source": [
        "## Analysis of Problem (General)"
      ]
    },
    {
      "cell_type": "markdown",
      "metadata": {
        "id": "Ok_vHG7dDdtQ"
      },
      "source": [
        "This seems like a complex problem. Differnece in depth between *Any two leaf nodes* makes it sound like we need to compare every node to every other node. \n",
        "\n",
        "We can exploit the structure of the problem. \n",
        "\n",
        "1. Look at the original problem:\n",
        "If a tree is super balanced then the difference in depths between any two nodes x, y is at most 1\n",
        "\n",
        "2. What about looking at the contrapositive?\n",
        "**If the diff in depths between any two nodes x,y, is not equal to zero or 1 then the tree is not superbalanced.**\n",
        "\n",
        "3. What does the contrapositive imply? \n",
        "All depths must be the same or there can at most be two depths (if there are 3 unique depths then this implies one is more than 1 level away). \n",
        "\n",
        "4. Draw a conclusion we can use: \n",
        "We can show a counter-example to superbalanced if we find more than two tree levels OR if there are only two levels but the diff is >2"
      ]
    },
    {
      "cell_type": "markdown",
      "metadata": {
        "id": "e4jIyADfFP2i"
      },
      "source": [
        "## Thinking about form of solution (data structure)"
      ]
    },
    {
      "cell_type": "markdown",
      "metadata": {
        "id": "nt2CTv1rTmbR"
      },
      "source": [
        "We can either use a depth-first search or a breadth-first search to scan for discrepancies. Here, I choose a depth first search. \n"
      ]
    },
    {
      "cell_type": "markdown",
      "metadata": {
        "id": "v-K7Z7wrFDB2"
      },
      "source": [
        "# Coding a solution:"
      ]
    },
    {
      "cell_type": "code",
      "metadata": {
        "id": "C0l6UlVADdAg"
      },
      "source": [
        "class BinaryTreeNode(object):\n",
        "\n",
        "  def __init__(self, value):\n",
        "      self.value = value\n",
        "      self.left = None\n",
        "      self.right = None\n",
        "\n",
        "  def insert_left(self, value):\n",
        "      self.left = BinaryTreeNode(value)\n",
        "      return self.left\n",
        "\n",
        "  def insert_right(self, value):\n",
        "      self.right = BinaryTreeNode(value)\n",
        "      return self.right"
      ],
      "execution_count": null,
      "outputs": []
    },
    {
      "cell_type": "code",
      "metadata": {
        "id": "27f8EunUU1FH"
      },
      "source": [
        "def is_balanced(tree_root):\n",
        "  levels = []\n",
        "\n",
        "  #We're going to need to traverse the tree using DFS and return node level\n",
        "  nodes_to_visit = []\n",
        "  nodes_to_visit.append((tree_root, 0))\n",
        "\n",
        "  while nodes_to_visit:\n",
        "    current_node,current_level = nodes_to_visit.pop()\n",
        "           \n",
        "    if current_node.left is None and current_node.right is None:\n",
        "      if current_level not in levels:\n",
        "        levels.append(current_level)\n",
        "\n",
        "    #SHORT CIRCUIT CONDITIONS\n",
        "    #if there are more than two levels then we can return False \n",
        "    if len(levels) > 2:\n",
        "      return False\n",
        "            \n",
        "    #if there are two levels but the diff > 1 then we can return False\n",
        "    if len(levels) == 2:\n",
        "      if abs(levels[1] - levels[0]) > 1:\n",
        "        return False\n",
        "\n",
        "    #CONTINUATION CONDITIONS\n",
        "    if current_node.left:\n",
        "      nodes_to_visit.append((current_node.left, current_level+1))\n",
        "\n",
        "    if current_node.right:\n",
        "      nodes_to_visit.append((current_node.right, current_level+1))\n",
        "\n",
        "  return True"
      ],
      "execution_count": 200,
      "outputs": []
    },
    {
      "cell_type": "code",
      "metadata": {
        "colab": {
          "base_uri": "https://localhost:8080/"
        },
        "id": "NMciQN-Y70ui",
        "outputId": "6a625726-069b-4c15-eabe-bc9cef9b35a2"
      },
      "source": [
        "is_balanced(tree)"
      ],
      "execution_count": 202,
      "outputs": [
        {
          "output_type": "execute_result",
          "data": {
            "text/plain": [
              "False"
            ]
          },
          "metadata": {},
          "execution_count": 202
        }
      ]
    }
  ]
}