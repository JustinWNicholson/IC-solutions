{
  "nbformat": 4,
  "nbformat_minor": 0,
  "metadata": {
    "colab": {
      "name": "Stock Trading (Greedy Algorithm)",
      "provenance": [],
      "toc_visible": true,
      "authorship_tag": "ABX9TyNe/VzqA9P/4CVpPo4a9xdY",
      "include_colab_link": true
    },
    "kernelspec": {
      "name": "python3",
      "display_name": "Python 3"
    },
    "language_info": {
      "name": "python"
    }
  },
  "cells": [
    {
      "cell_type": "markdown",
      "metadata": {
        "id": "view-in-github",
        "colab_type": "text"
      },
      "source": [
        "<a href=\"https://colab.research.google.com/github/JustinWNicholson/IC-solutions/blob/main/Stock_Trading_(Greedy_Algorithm).ipynb\" target=\"_parent\"><img src=\"https://colab.research.google.com/assets/colab-badge.svg\" alt=\"Open In Colab\"/></a>"
      ]
    },
    {
      "cell_type": "markdown",
      "metadata": {
        "id": "AWCDo7LP_XtP"
      },
      "source": [
        "# Problem Introduction"
      ]
    },
    {
      "cell_type": "markdown",
      "metadata": {
        "id": "nVNgwPx7E7aO"
      },
      "source": [
        "**The Apple Stock Problem:**"
      ]
    },
    {
      "cell_type": "markdown",
      "metadata": {
        "id": "Ug5qj4KhFFhn"
      },
      "source": [
        " First, I wanna know how much money I could have made yesterday if I'd been trading Apple stocks all day.\n",
        "\n",
        "So I grabbed Apple's stock prices from yesterday and put them in a list called stock_prices, where:\n",
        "\n",
        "    The indices are the time (in minutes) past trade opening time, which was 9:30am local time.\n",
        "    The values are the price (in US dollars) of one share of Apple stock at that time.\n",
        "\n",
        "So if the stock cost $500 at 10:30am, that means stock_prices[60] = 500.\n",
        "\n",
        "Write an efficient function that takes stock_prices and returns the best profit I could have made from one purchase and one sale of one share of Apple stock yesterday. "
      ]
    },
    {
      "cell_type": "markdown",
      "metadata": {
        "id": "Wr0Evnhw_jAe"
      },
      "source": [
        "# Problem Analysis"
      ]
    },
    {
      "cell_type": "markdown",
      "metadata": {
        "id": "JHL61UHUFJgN"
      },
      "source": [
        "Problem Analysis: \n",
        "1. Input: list (array) of stock prices. \n",
        "2. Output: Integer (maximum amount I could have made off of an Apple stock trade\n",
        "3. Potential general algorithm type: Greedy\n",
        "  -calculate the \"local best\" answer in hopes that it will approximate the global max\n",
        "  "
      ]
    },
    {
      "cell_type": "markdown",
      "metadata": {
        "id": "VT--Lq6r_m2N"
      },
      "source": [
        "#Solution"
      ]
    },
    {
      "cell_type": "code",
      "metadata": {
        "id": "2qrRFVdh8Ul_"
      },
      "source": [
        "#example stock prices:\n",
        "stock_prices = [1,5,3,2]"
      ],
      "execution_count": 12,
      "outputs": []
    },
    {
      "cell_type": "code",
      "metadata": {
        "id": "CbGgLP4mrT-E"
      },
      "source": [
        "def find_max_stock(stock_prices):\n",
        "  #initialize the original values\n",
        "  smallest_purchase = stock_prices[0]\n",
        "  current_price = stock_prices[1]\n",
        "  max_profit = current_price - smallest_purchase\n",
        "  \n",
        "#update the relevant variables (max profit and smallest price)\n",
        "  for i in stock_prices[1:]:\n",
        "    max_profit = max(max_profit, (i - smallest_purchase))\n",
        "    smallest_purchase = min(smallest_purchase, i)\n",
        "\n",
        "  return max_profit\n",
        "\n"
      ],
      "execution_count": 13,
      "outputs": []
    },
    {
      "cell_type": "markdown",
      "metadata": {
        "id": "BnJhm8nY_4IB"
      },
      "source": [
        "#Complexity"
      ]
    },
    {
      "cell_type": "markdown",
      "metadata": {
        "id": "y1Cb1rwj_8G8"
      },
      "source": [
        "##Time Complexity"
      ]
    },
    {
      "cell_type": "markdown",
      "metadata": {
        "id": "zCq35__pADXS"
      },
      "source": [
        "This solution is time complexity O(n). We only need loop through the stock prices once. This is the best we can do as we must at least look at each price once."
      ]
    },
    {
      "cell_type": "markdown",
      "metadata": {
        "id": "pGO0bQgmANFN"
      },
      "source": [
        "## Space Complexity"
      ]
    },
    {
      "cell_type": "markdown",
      "metadata": {
        "id": "gixMLvghAPsR"
      },
      "source": [
        "This problem is space complexity O(1). "
      ]
    },
    {
      "cell_type": "markdown",
      "metadata": {
        "id": "2SIxxUYH_pLT"
      },
      "source": [
        "#What we learned & Why is it important?"
      ]
    },
    {
      "cell_type": "markdown",
      "metadata": {
        "id": "08bhPRQu99Ts"
      },
      "source": [
        "What was important about this problem: \n",
        "1. It's a greedy algorithm. it's only locally optimal but the structure of the problem means that locally optimal ==> globally optimal\n",
        "\n",
        "2. The way that we update the algorithm exploits the structure of the problem. More concretely, it exploits the structure of stock trading. That is, we can make a decision to SELL with the old price in mind and the current price as a sale price. If not, we can then consider a purchase at the current price as buy price moving forward. "
      ]
    }
  ]
}